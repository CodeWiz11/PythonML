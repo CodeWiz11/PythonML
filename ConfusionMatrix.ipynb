{
 "cells": [
  {
   "cell_type": "markdown",
   "id": "5c45ab1f-a105-460b-9f8e-cddbb6620e8a",
   "metadata": {},
   "source": [
    "# Q8"
   ]
  },
  {
   "cell_type": "code",
   "execution_count": 3,
   "id": "76c21786-49eb-4754-a852-f711ce997f7a",
   "metadata": {},
   "outputs": [
    {
     "name": "stdout",
     "output_type": "stream",
     "text": [
      "40 30 20 30\n",
      "[[40, 30], [20, 30]]\n",
      "accuracy = 40.25\n",
      "Presicion = 0.5714285714285714\n",
      "Recall = 0.6666666666666666\n",
      "F1 score = 0.6153846153846153\n"
     ]
    }
   ],
   "source": [
    "from sklearn.metrics import classification_report\n",
    "confusion = [[40,30],[20,30]]\n",
    "print(confusion[0][0],confusion[0][1],confusion[1][0],confusion[1][1])\n",
    "print(confusion)\n",
    "accuary = confusion[0][0]+confusion[1][1]/(confusion[0][0]+confusion[0][1]+confusion[1][0]+confusion[1][1])\n",
    "print(\"accuracy = {}\".format(accuary))\n",
    "precision = confusion[0][0]/(confusion[0][1]+confusion[0][0])\n",
    "print(\"Presicion = {}\".format(precision))\n",
    "recall = confusion[0][0]/(confusion[0][0]+confusion[1][0])\n",
    "print(\"Recall = {}\".format(recall))\n",
    "F1_score = 2*precision*recall/(precision+recall)\n",
    "print(\"F1 score = {}\".format(F1_score))"
   ]
  },
  {
   "cell_type": "code",
   "execution_count": null,
   "id": "1188bd40-4e5f-4e5f-b9be-7e814bb1d65f",
   "metadata": {},
   "outputs": [],
   "source": []
  }
 ],
 "metadata": {
  "kernelspec": {
   "display_name": "Python 3 (ipykernel)",
   "language": "python",
   "name": "python3"
  },
  "language_info": {
   "codemirror_mode": {
    "name": "ipython",
    "version": 3
   },
   "file_extension": ".py",
   "mimetype": "text/x-python",
   "name": "python",
   "nbconvert_exporter": "python",
   "pygments_lexer": "ipython3",
   "version": "3.10.4"
  }
 },
 "nbformat": 4,
 "nbformat_minor": 5
}
