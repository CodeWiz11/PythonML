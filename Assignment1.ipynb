{
 "cells": [
  {
   "cell_type": "markdown",
   "id": "7bfcaeee-4b0a-470e-b1c2-859c3c43f767",
   "metadata": {},
   "source": [
    "#ASSIGNMENT 1"
   ]
  },
  {
   "cell_type": "code",
   "execution_count": 1,
   "id": "242fb0b2-6a5e-4625-8f47-38c317f681e6",
   "metadata": {},
   "outputs": [],
   "source": [
    "import pandas as pd\n",
    "import numpy as np"
   ]
  },
  {
   "cell_type": "code",
   "execution_count": 2,
   "id": "2a0b2e8e-7df7-456f-b451-b60fbddf76d8",
   "metadata": {},
   "outputs": [],
   "source": [
    "dict = {\n",
    "    'Company name' : ['Amazon','Microsoft','Adobe','TI','Mercedez benz','Continental'],\n",
    "    'Sales' : [50000,20000,78000,56000,40000,56000],\n",
    "    'Profits' : [1000,1500,12000,7000,5600,1100]\n",
    "}"
   ]
  },
  {
   "cell_type": "code",
   "execution_count": 3,
   "id": "bc3f5203-797c-4a80-a38e-ccd40be65b11",
   "metadata": {},
   "outputs": [
    {
     "data": {
      "text/plain": [
       "{'Company name': ['Amazon',\n",
       "  'Microsoft',\n",
       "  'Adobe',\n",
       "  'TI',\n",
       "  'Mercedez benz',\n",
       "  'Continental'],\n",
       " 'Sales': [50000, 20000, 78000, 56000, 40000, 56000],\n",
       " 'Profits': [1000, 1500, 12000, 7000, 5600, 1100]}"
      ]
     },
     "execution_count": 3,
     "metadata": {},
     "output_type": "execute_result"
    }
   ],
   "source": [
    "dict"
   ]
  },
  {
   "cell_type": "code",
   "execution_count": 4,
   "id": "67fc14d5-72d0-4d27-9d0f-88943c356894",
   "metadata": {},
   "outputs": [],
   "source": [
    "df = pd.DataFrame(dict)"
   ]
  },
  {
   "cell_type": "code",
   "execution_count": 5,
   "id": "aabdccc7-7c4a-437b-8c10-0976d5dffc93",
   "metadata": {},
   "outputs": [
    {
     "data": {
      "text/html": [
       "<div>\n",
       "<style scoped>\n",
       "    .dataframe tbody tr th:only-of-type {\n",
       "        vertical-align: middle;\n",
       "    }\n",
       "\n",
       "    .dataframe tbody tr th {\n",
       "        vertical-align: top;\n",
       "    }\n",
       "\n",
       "    .dataframe thead th {\n",
       "        text-align: right;\n",
       "    }\n",
       "</style>\n",
       "<table border=\"1\" class=\"dataframe\">\n",
       "  <thead>\n",
       "    <tr style=\"text-align: right;\">\n",
       "      <th></th>\n",
       "      <th>Company name</th>\n",
       "      <th>Sales</th>\n",
       "      <th>Profits</th>\n",
       "    </tr>\n",
       "  </thead>\n",
       "  <tbody>\n",
       "    <tr>\n",
       "      <th>0</th>\n",
       "      <td>Amazon</td>\n",
       "      <td>50000</td>\n",
       "      <td>1000</td>\n",
       "    </tr>\n",
       "    <tr>\n",
       "      <th>1</th>\n",
       "      <td>Microsoft</td>\n",
       "      <td>20000</td>\n",
       "      <td>1500</td>\n",
       "    </tr>\n",
       "    <tr>\n",
       "      <th>2</th>\n",
       "      <td>Adobe</td>\n",
       "      <td>78000</td>\n",
       "      <td>12000</td>\n",
       "    </tr>\n",
       "    <tr>\n",
       "      <th>3</th>\n",
       "      <td>TI</td>\n",
       "      <td>56000</td>\n",
       "      <td>7000</td>\n",
       "    </tr>\n",
       "    <tr>\n",
       "      <th>4</th>\n",
       "      <td>Mercedez benz</td>\n",
       "      <td>40000</td>\n",
       "      <td>5600</td>\n",
       "    </tr>\n",
       "    <tr>\n",
       "      <th>5</th>\n",
       "      <td>Continental</td>\n",
       "      <td>56000</td>\n",
       "      <td>1100</td>\n",
       "    </tr>\n",
       "  </tbody>\n",
       "</table>\n",
       "</div>"
      ],
      "text/plain": [
       "    Company name  Sales  Profits\n",
       "0         Amazon  50000     1000\n",
       "1      Microsoft  20000     1500\n",
       "2          Adobe  78000    12000\n",
       "3             TI  56000     7000\n",
       "4  Mercedez benz  40000     5600\n",
       "5    Continental  56000     1100"
      ]
     },
     "execution_count": 5,
     "metadata": {},
     "output_type": "execute_result"
    }
   ],
   "source": [
    "df"
   ]
  },
  {
   "cell_type": "code",
   "execution_count": 6,
   "id": "2c0da48c-20cd-4760-99f9-44f0cd374594",
   "metadata": {},
   "outputs": [],
   "source": [
    "dread = pd.read_csv('CompAs.csv')"
   ]
  },
  {
   "cell_type": "code",
   "execution_count": 7,
   "id": "db8b4335-fceb-4c84-8642-2e4015c10f82",
   "metadata": {},
   "outputs": [
    {
     "data": {
      "text/html": [
       "<div>\n",
       "<style scoped>\n",
       "    .dataframe tbody tr th:only-of-type {\n",
       "        vertical-align: middle;\n",
       "    }\n",
       "\n",
       "    .dataframe tbody tr th {\n",
       "        vertical-align: top;\n",
       "    }\n",
       "\n",
       "    .dataframe thead th {\n",
       "        text-align: right;\n",
       "    }\n",
       "</style>\n",
       "<table border=\"1\" class=\"dataframe\">\n",
       "  <thead>\n",
       "    <tr style=\"text-align: right;\">\n",
       "      <th></th>\n",
       "      <th>Company name</th>\n",
       "      <th>Sales</th>\n",
       "      <th>Profits</th>\n",
       "    </tr>\n",
       "  </thead>\n",
       "  <tbody>\n",
       "    <tr>\n",
       "      <th>0</th>\n",
       "      <td>Amazon</td>\n",
       "      <td>50000</td>\n",
       "      <td>1000</td>\n",
       "    </tr>\n",
       "    <tr>\n",
       "      <th>1</th>\n",
       "      <td>Microsoft</td>\n",
       "      <td>20000</td>\n",
       "      <td>1500</td>\n",
       "    </tr>\n",
       "    <tr>\n",
       "      <th>2</th>\n",
       "      <td>Adobe</td>\n",
       "      <td>78000</td>\n",
       "      <td>12000</td>\n",
       "    </tr>\n",
       "    <tr>\n",
       "      <th>3</th>\n",
       "      <td>TI</td>\n",
       "      <td>56000</td>\n",
       "      <td>7000</td>\n",
       "    </tr>\n",
       "    <tr>\n",
       "      <th>4</th>\n",
       "      <td>Mercedez benz</td>\n",
       "      <td>40000</td>\n",
       "      <td>5600</td>\n",
       "    </tr>\n",
       "    <tr>\n",
       "      <th>5</th>\n",
       "      <td>Continental</td>\n",
       "      <td>56000</td>\n",
       "      <td>1100</td>\n",
       "    </tr>\n",
       "  </tbody>\n",
       "</table>\n",
       "</div>"
      ],
      "text/plain": [
       "    Company name  Sales  Profits\n",
       "0         Amazon  50000     1000\n",
       "1      Microsoft  20000     1500\n",
       "2          Adobe  78000    12000\n",
       "3             TI  56000     7000\n",
       "4  Mercedez benz  40000     5600\n",
       "5    Continental  56000     1100"
      ]
     },
     "execution_count": 7,
     "metadata": {},
     "output_type": "execute_result"
    }
   ],
   "source": [
    "dread"
   ]
  },
  {
   "cell_type": "code",
   "execution_count": 8,
   "id": "6c4562d0-e23c-4aa9-bc35-71b7c6e2817d",
   "metadata": {},
   "outputs": [],
   "source": [
    "intdf = dread.drop(columns='Company name')"
   ]
  },
  {
   "cell_type": "code",
   "execution_count": 9,
   "id": "b94ef26f-68a2-4e2c-9ff7-749268756ae9",
   "metadata": {},
   "outputs": [
    {
     "data": {
      "text/plain": [
       "Sales      50000.0\n",
       "Profits     4700.0\n",
       "dtype: float64"
      ]
     },
     "execution_count": 9,
     "metadata": {},
     "output_type": "execute_result"
    }
   ],
   "source": [
    "intdf.mean()"
   ]
  },
  {
   "cell_type": "code",
   "execution_count": 10,
   "id": "3bec35fd-13b6-464c-bfc2-bd59515b42a3",
   "metadata": {},
   "outputs": [
    {
     "data": {
      "text/plain": [
       "Sales      53000.0\n",
       "Profits     3550.0\n",
       "dtype: float64"
      ]
     },
     "execution_count": 10,
     "metadata": {},
     "output_type": "execute_result"
    }
   ],
   "source": [
    "intdf.median()"
   ]
  },
  {
   "cell_type": "code",
   "execution_count": 11,
   "id": "ea07680a-348d-4142-8348-aeea9ece0352",
   "metadata": {},
   "outputs": [
    {
     "data": {
      "text/html": [
       "<div>\n",
       "<style scoped>\n",
       "    .dataframe tbody tr th:only-of-type {\n",
       "        vertical-align: middle;\n",
       "    }\n",
       "\n",
       "    .dataframe tbody tr th {\n",
       "        vertical-align: top;\n",
       "    }\n",
       "\n",
       "    .dataframe thead th {\n",
       "        text-align: right;\n",
       "    }\n",
       "</style>\n",
       "<table border=\"1\" class=\"dataframe\">\n",
       "  <thead>\n",
       "    <tr style=\"text-align: right;\">\n",
       "      <th></th>\n",
       "      <th>Sales</th>\n",
       "      <th>Profits</th>\n",
       "    </tr>\n",
       "  </thead>\n",
       "  <tbody>\n",
       "    <tr>\n",
       "      <th>0</th>\n",
       "      <td>56000.0</td>\n",
       "      <td>1000</td>\n",
       "    </tr>\n",
       "    <tr>\n",
       "      <th>1</th>\n",
       "      <td>NaN</td>\n",
       "      <td>1100</td>\n",
       "    </tr>\n",
       "    <tr>\n",
       "      <th>2</th>\n",
       "      <td>NaN</td>\n",
       "      <td>1500</td>\n",
       "    </tr>\n",
       "    <tr>\n",
       "      <th>3</th>\n",
       "      <td>NaN</td>\n",
       "      <td>5600</td>\n",
       "    </tr>\n",
       "    <tr>\n",
       "      <th>4</th>\n",
       "      <td>NaN</td>\n",
       "      <td>7000</td>\n",
       "    </tr>\n",
       "    <tr>\n",
       "      <th>5</th>\n",
       "      <td>NaN</td>\n",
       "      <td>12000</td>\n",
       "    </tr>\n",
       "  </tbody>\n",
       "</table>\n",
       "</div>"
      ],
      "text/plain": [
       "     Sales  Profits\n",
       "0  56000.0     1000\n",
       "1      NaN     1100\n",
       "2      NaN     1500\n",
       "3      NaN     5600\n",
       "4      NaN     7000\n",
       "5      NaN    12000"
      ]
     },
     "execution_count": 11,
     "metadata": {},
     "output_type": "execute_result"
    }
   ],
   "source": [
    "intdf.mode()"
   ]
  },
  {
   "cell_type": "code",
   "execution_count": 12,
   "id": "ec900a3e-e97b-45b2-82f2-4fe6e08da2be",
   "metadata": {},
   "outputs": [],
   "source": [
    "import matplotlib.pyplot as plt"
   ]
  },
  {
   "cell_type": "code",
   "execution_count": 13,
   "id": "ce0fd460-97fe-4a50-881f-b87a54a268f0",
   "metadata": {},
   "outputs": [
    {
     "data": {
      "text/plain": [
       "Text(0.5, 1.0, 'Sales vs Profits')"
      ]
     },
     "execution_count": 13,
     "metadata": {},
     "output_type": "execute_result"
    },
    {
     "data": {
      "image/png": "[encoded data removed]",
      "text/plain": [
       "<Figure size 640x480 with 1 Axes>"
      ]
     },
     "metadata": {},
     "output_type": "display_data"
    }
   ],
   "source": [
    "plt.scatter(intdf.Sales,intdf.Profits)\n",
    "plt.xlabel('Company')\n",
    "plt.ylabel('Profits')\n",
    "plt.title('Sales vs Profits')"
   ]
  },
  {
   "cell_type": "code",
   "execution_count": 14,
   "id": "929e9457-8d2f-4f5c-8265-0a4be750a0f6",
   "metadata": {},
   "outputs": [
    {
     "data": {
      "image/png": "[encoded data removed]",
      "text/plain": [
       "<Figure size 640x480 with 1 Axes>"
      ]
     },
     "metadata": {},
     "output_type": "display_data"
    }
   ],
   "source": [
    "xaxis = ['Amazon','Microsoft','Adobe','TI','Mercedez','Continental']\n",
    "yaxis = [50000,20000,78000,56000,40000,56000]\n",
    "c = ['red','blue','yellow','orange','aqua','magenta','black','brown','magenta','purple']\n",
    "plt.bar(xaxis,yaxis,color = c)\n",
    "plt.title('Company vs Sales for the year 2000')\n",
    "plt.xlabel('Company')\n",
    "plt.ylabel('Sales')\n",
    "plt.show()"
   ]
  },
  {
   "cell_type": "code",
   "execution_count": 2,
   "id": "f2d98e6e-942c-4fe7-8e69-e4f6f8187386",
   "metadata": {},
   "outputs": [
    {
     "name": "stdin",
     "output_type": "stream",
     "text": [
      "rock, paper or scissors? rock \n"
     ]
    },
    {
     "name": "stdout",
     "output_type": "stream",
     "text": [
      "You lost!\n"
     ]
    },
    {
     "name": "stdin",
     "output_type": "stream",
     "text": [
      "rock, paper or scissors? scissors\n"
     ]
    },
    {
     "name": "stdout",
     "output_type": "stream",
     "text": [
      "You lost!\n"
     ]
    },
    {
     "name": "stdin",
     "output_type": "stream",
     "text": [
      "rock, paper or scissors? paper\n"
     ]
    },
    {
     "name": "stdout",
     "output_type": "stream",
     "text": [
      "Its a tie!\n"
     ]
    },
    {
     "name": "stdin",
     "output_type": "stream",
     "text": [
      "rock, paper or scissors? rock\n"
     ]
    },
    {
     "name": "stdout",
     "output_type": "stream",
     "text": [
      "You win!\n"
     ]
    },
    {
     "name": "stdin",
     "output_type": "stream",
     "text": [
      "rock, paper or scissors? rock\n"
     ]
    },
    {
     "name": "stdout",
     "output_type": "stream",
     "text": [
      "You win!\n",
      "Comp won : 2 time(s)\n",
      " You won : 2 time(s)\n",
      " Tied : 1 time(s)\n",
      "\n",
      "[[1, 'rock ', 'rock', 'Lost'], [2, 'scissors', 'rock', 'Lost'], [3, 'paper', 'paper', 'Tie'], [4, 'rock', 'scissors', 'Win'], [5, 'rock', 'scissors', 'Win']]\n"
     ]
    },
    {
     "data": {
      "image/png": "[encoded data removed]",
      "text/plain": [
       "<Figure size 640x480 with 1 Axes>"
      ]
     },
     "metadata": {},
     "output_type": "display_data"
    }
   ],
   "source": [
    "import random\n",
    "input_list = []\n",
    "comp_list = []\n",
    "res = []\n",
    "w=t=l = 0\n",
    "for x in range (5):\n",
    "    game = ['rock','paper','scissors']\n",
    "    comp = random.choice(game)\n",
    "    user = input(\"rock, paper or scissors?\")\n",
    "    if(comp=='rock' and user=='paper') or (comp=='paper' and user=='scissors') or (comp == 'scissors' and user=='rock'):\n",
    "        print('You win!')\n",
    "        w = w + 1\n",
    "        res.append('Win')\n",
    "        input_list.append(user)\n",
    "        comp_list.append(comp)\n",
    "    elif(comp == user):\n",
    "        print('Its a tie!')\n",
    "        t = t + 1\n",
    "        res.append('Tie')\n",
    "        input_list.append(user)\n",
    "        comp_list.append(comp)\n",
    "    else:\n",
    "        print('You lost!')\n",
    "        l = l + 1\n",
    "        res.append('Lost')\n",
    "        input_list.append(user)\n",
    "        comp_list.append(comp)\n",
    "print(\"Comp won : {} time(s)\\n You won : {} time(s)\\n Tied : {} time(s)\\n\".format(l,w,t))\n",
    "sc = su = st = 0\n",
    "sc = (l/(x+1))*100\n",
    "su = (w/(x+1))*100\n",
    "st = (t/(x+1))*100\n",
    "sr = []\n",
    "sr.append(sc)\n",
    "sr.append(su)\n",
    "sr.append(st)\n",
    "\n",
    "data=[]\n",
    "for x in range (len(res)):\n",
    "      data.append([x+1,input_list[x],comp_list[x],res[x]])\n",
    "print(data)\n",
    "import pandas as pd\n",
    "excel_header=['Sl.No','User choice','Computer choice','Outcome']\n",
    "import matplotlib.pyplot as plt\n",
    "import numpy as np\n",
    "x_data = np.array([\"USER\",\"COMPUTER\",\"TIES\"])\n",
    "y_data = np.array(sr)\n",
    "c = ['indigo','yellow','green']\n",
    "plt.bar(x_data,y_data,color = c)\n",
    "plt.legend(['Success rates'])\n",
    "plt.title(\"Success rate plot\")\n",
    "plt.xlabel(\"Inputs\")\n",
    "plt.ylabel(\"Success rate percent\")\n",
    "plt.show()"
   ]
  },
  {
   "cell_type": "code",
   "execution_count": null,
   "id": "e94feb3e-40c5-4295-893c-b692cd9d2554",
   "metadata": {},
   "outputs": [],
   "source": []
  }
 ],
 "metadata": {
  "kernelspec": {
   "display_name": "Python 3 (ipykernel)",
   "language": "python",
   "name": "python3"
  },
  "language_info": {
   "codemirror_mode": {
    "name": "ipython",
    "version": 3
   },
   "file_extension": ".py",
   "mimetype": "text/x-python",
   "name": "python",
   "nbconvert_exporter": "python",
   "pygments_lexer": "ipython3",
   "version": "3.10.4"
  }
 },
 "nbformat": 4,
 "nbformat_minor": 5
}
